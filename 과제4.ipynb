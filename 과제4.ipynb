{
  "nbformat": 4,
  "nbformat_minor": 0,
  "metadata": {
    "colab": {
      "provenance": [],
      "authorship_tag": "ABX9TyOm3zmelM9L67VUAm1ePerC",
      "include_colab_link": true
    },
    "kernelspec": {
      "name": "python3",
      "display_name": "Python 3"
    },
    "language_info": {
      "name": "python"
    }
  },
  "cells": [
    {
      "cell_type": "markdown",
      "metadata": {
        "id": "view-in-github",
        "colab_type": "text"
      },
      "source": [
        "<a href=\"https://colab.research.google.com/github/Adamasers/python/blob/main/%EA%B3%BC%EC%A0%9C4.ipynb\" target=\"_parent\"><img src=\"https://colab.research.google.com/assets/colab-badge.svg\" alt=\"Open In Colab\"/></a>"
      ]
    },
    {
      "cell_type": "code",
      "source": [
        "total = 0\n",
        "\n",
        "total -= 900 * 10\n",
        "total -= 3500 * 5\n",
        "\n",
        "total += 1800 * 2\n",
        "total += 4000 * 4\n",
        "total += 1500\n",
        "total += 2000 * 4\n",
        "total += 1800 * 5\n",
        "\n",
        "print(\"오늘 총 판매액은 \", total, \"원입니다.\")"
      ],
      "metadata": {
        "colab": {
          "base_uri": "https://localhost:8080/"
        },
        "id": "chnW47Q0Ukat",
        "outputId": "f661d32d-4630-48b1-a3aa-fe0e66698728"
      },
      "execution_count": 23,
      "outputs": [
        {
          "output_type": "stream",
          "name": "stdout",
          "text": [
            "오늘 총 판매액은  11600 원입니다.\n"
          ]
        }
      ]
    }
  ]
}