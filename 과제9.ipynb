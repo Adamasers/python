{
  "nbformat": 4,
  "nbformat_minor": 0,
  "metadata": {
    "colab": {
      "provenance": [],
      "authorship_tag": "ABX9TyOIzyQVI0Najb9Z1aMVLV9v",
      "include_colab_link": true
    },
    "kernelspec": {
      "name": "python3",
      "display_name": "Python 3"
    },
    "language_info": {
      "name": "python"
    }
  },
  "cells": [
    {
      "cell_type": "markdown",
      "metadata": {
        "id": "view-in-github",
        "colab_type": "text"
      },
      "source": [
        "<a href=\"https://colab.research.google.com/github/Adamasers/python/blob/main/%EA%B3%BC%EC%A0%9C9.ipynb\" target=\"_parent\"><img src=\"https://colab.research.google.com/assets/colab-badge.svg\" alt=\"Open In Colab\"/></a>"
      ]
    },
    {
      "cell_type": "code",
      "execution_count": 3,
      "metadata": {
        "colab": {
          "base_uri": "https://localhost:8080/"
        },
        "id": "vTemQj8cc2h3",
        "outputId": "9de0163d-fab5-41f5-fdde-3266c2ee271f"
      },
      "outputs": [
        {
          "output_type": "stream",
          "name": "stdout",
          "text": [
            "컴퓨터과 3학년 1반\n",
            "컴퓨터과 3학년 1반\n",
            "컴퓨터과 3학년 1반\n"
          ]
        }
      ],
      "source": [
        "for i in range(0,3,1):\n",
        "  print(\"컴퓨터과 3학년 1반\")"
      ]
    },
    {
      "cell_type": "code",
      "source": [
        "for i in [0,1,2,3,4]:\n",
        "  print(\"컴퓨터과 3학년 1반\")"
      ],
      "metadata": {
        "colab": {
          "base_uri": "https://localhost:8080/"
        },
        "id": "jLSOt7mMdoQj",
        "outputId": "3e87db20-7908-4800-d096-26ed6ca6f924"
      },
      "execution_count": 5,
      "outputs": [
        {
          "output_type": "stream",
          "name": "stdout",
          "text": [
            "컴퓨터과 3학년 1반\n",
            "컴퓨터과 3학년 1반\n",
            "컴퓨터과 3학년 1반\n",
            "컴퓨터과 3학년 1반\n",
            "컴퓨터과 3학년 1반\n"
          ]
        }
      ]
    },
    {
      "cell_type": "code",
      "source": [
        "for i in [\"봄\",\"여름\", \"가을\", \"겨울\"]:\n",
        "  print(i, \"컴퓨터과 3학년 1반\")"
      ],
      "metadata": {
        "colab": {
          "base_uri": "https://localhost:8080/"
        },
        "id": "r-nAU5Lmd4ga",
        "outputId": "610ccf8d-6f14-49a4-ebde-614fe3b0c452"
      },
      "execution_count": 7,
      "outputs": [
        {
          "output_type": "stream",
          "name": "stdout",
          "text": [
            "봄 컴퓨터과 3학년 1반\n",
            "여름 컴퓨터과 3학년 1반\n",
            "가을 컴퓨터과 3학년 1반\n",
            "겨울 컴퓨터과 3학년 1반\n"
          ]
        }
      ]
    },
    {
      "cell_type": "code",
      "source": [
        "for i in range(1, 11, 1):\n",
        "  print(i, \"컴퓨터과\")"
      ],
      "metadata": {
        "colab": {
          "base_uri": "https://localhost:8080/"
        },
        "id": "gBvXO_6peObz",
        "outputId": "9b700060-649d-42c7-f03a-862e46737696"
      },
      "execution_count": 9,
      "outputs": [
        {
          "output_type": "stream",
          "name": "stdout",
          "text": [
            "1 컴퓨터과\n",
            "2 컴퓨터과\n",
            "3 컴퓨터과\n",
            "4 컴퓨터과\n",
            "5 컴퓨터과\n",
            "6 컴퓨터과\n",
            "7 컴퓨터과\n",
            "8 컴퓨터과\n",
            "9 컴퓨터과\n",
            "10 컴퓨터과\n"
          ]
        }
      ]
    },
    {
      "cell_type": "code",
      "source": [
        "for i in range(2, 6, 1):\n",
        "  print(i, end=\" \")"
      ],
      "metadata": {
        "colab": {
          "base_uri": "https://localhost:8080/"
        },
        "id": "O1g-sIURe2xa",
        "outputId": "8925b43a-7bf9-4a78-943d-cf5e6463aa3f"
      },
      "execution_count": 11,
      "outputs": [
        {
          "output_type": "stream",
          "name": "stdout",
          "text": [
            "2 3 4 5 "
          ]
        }
      ]
    },
    {
      "cell_type": "code",
      "source": [
        "n = 1\n",
        "for i in range(1, 6, 1):\n",
        "  n = n * i\n",
        "\n",
        "print(n)"
      ],
      "metadata": {
        "colab": {
          "base_uri": "https://localhost:8080/"
        },
        "id": "MJzJxvC1gAHi",
        "outputId": "19dc1b93-8da7-484e-a411-aa2a9480ba8b"
      },
      "execution_count": 13,
      "outputs": [
        {
          "output_type": "stream",
          "name": "stdout",
          "text": [
            "120\n"
          ]
        }
      ]
    },
    {
      "cell_type": "code",
      "source": [],
      "metadata": {
        "id": "U1QVRaycqeaQ"
      },
      "execution_count": null,
      "outputs": []
    },
    {
      "cell_type": "code",
      "source": [],
      "metadata": {
        "id": "eWlhrXfTqfrQ"
      },
      "execution_count": null,
      "outputs": []
    },
    {
      "cell_type": "code",
      "source": [
        "sum = 0\n",
        "for i in range(1, 11,1):\n",
        "  sum = sum +i\n",
        "print(sum)"
      ],
      "metadata": {
        "colab": {
          "base_uri": "https://localhost:8080/"
        },
        "id": "l1gAEXguhsAK",
        "outputId": "316ef26f-8b71-4f50-badb-e7f395d5439e"
      },
      "execution_count": 31,
      "outputs": [
        {
          "output_type": "stream",
          "name": "stdout",
          "text": [
            "55\n"
          ]
        }
      ]
    },
    {
      "cell_type": "code",
      "source": [
        "odd_sum = 0\n",
        "for i in range(1001, 2001, 2):\n",
        "  odd_sum = odd_sum + i\n",
        "print(odd_sum)"
      ],
      "metadata": {
        "colab": {
          "base_uri": "https://localhost:8080/"
        },
        "id": "K4qOcgsFiYxZ",
        "outputId": "c55d52d6-1ed7-4684-927f-fd06b92ffaac"
      },
      "execution_count": 32,
      "outputs": [
        {
          "output_type": "stream",
          "name": "stdout",
          "text": [
            "750000\n"
          ]
        }
      ]
    },
    {
      "cell_type": "code",
      "source": [
        "sum = 0\n",
        "for i in range(1000, 2001, 1):\n",
        "  if i%2 == 1:\n",
        "    sum = sum + i\n",
        "print(sum)"
      ],
      "metadata": {
        "colab": {
          "base_uri": "https://localhost:8080/"
        },
        "id": "NHl5QOdwjRFp",
        "outputId": "8594950a-61e1-4115-de85-746ce845414d"
      },
      "execution_count": 22,
      "outputs": [
        {
          "output_type": "stream",
          "name": "stdout",
          "text": [
            "750000\n"
          ]
        }
      ]
    },
    {
      "cell_type": "code",
      "source": [
        "sum, i = 0,0\n",
        "\n",
        "for i in range(500, 1001, 2):\n",
        "  sum = sum + i\n",
        "print(\"500에서 1000까지의 합\", sum)"
      ],
      "metadata": {
        "colab": {
          "base_uri": "https://localhost:8080/"
        },
        "id": "ByV9z4nmkWN5",
        "outputId": "3d19f8b9-bfdf-4bbd-fca8-865ef329e400"
      },
      "execution_count": 28,
      "outputs": [
        {
          "output_type": "stream",
          "name": "stdout",
          "text": [
            "500에서 1000까지의 합 188250\n"
          ]
        }
      ]
    },
    {
      "cell_type": "code",
      "source": [
        "for i in range(3):\n",
        "  for k in range(2):\n",
        "    print(\"난생처음은 쉽습니다. ^^ (i값:\", i,\", k값:\", k, \")\")"
      ],
      "metadata": {
        "colab": {
          "base_uri": "https://localhost:8080/"
        },
        "id": "DdB61ftpkAcS",
        "outputId": "5a002241-715d-401f-8cb7-3b60c614938f"
      },
      "execution_count": 30,
      "outputs": [
        {
          "output_type": "stream",
          "name": "stdout",
          "text": [
            "난생처음은 쉽습니다. ^^ (i값: 0 , k값: 0 )\n",
            "난생처음은 쉽습니다. ^^ (i값: 0 , k값: 1 )\n",
            "난생처음은 쉽습니다. ^^ (i값: 1 , k값: 0 )\n",
            "난생처음은 쉽습니다. ^^ (i값: 1 , k값: 1 )\n",
            "난생처음은 쉽습니다. ^^ (i값: 2 , k값: 0 )\n",
            "난생처음은 쉽습니다. ^^ (i값: 2 , k값: 1 )\n"
          ]
        }
      ]
    },
    {
      "cell_type": "code",
      "source": [
        "for i in range(1, 10, 1):\n",
        "  print(\" \")\n",
        "  for j in range(2, 10, 1):\n",
        "    print(j, \"x\", j, \"=\", i * j, end = \" \")"
      ],
      "metadata": {
        "colab": {
          "base_uri": "https://localhost:8080/"
        },
        "id": "TIx67qciqhfH",
        "outputId": "e90d8c85-3f39-46f5-bff3-3052f9146b64"
      },
      "execution_count": 47,
      "outputs": [
        {
          "output_type": "stream",
          "name": "stdout",
          "text": [
            " \n",
            "2 x 2 = 2 3 x 3 = 3 4 x 4 = 4 5 x 5 = 5 6 x 6 = 6 7 x 7 = 7 8 x 8 = 8 9 x 9 = 9  \n",
            "2 x 2 = 4 3 x 3 = 6 4 x 4 = 8 5 x 5 = 10 6 x 6 = 12 7 x 7 = 14 8 x 8 = 16 9 x 9 = 18  \n",
            "2 x 2 = 6 3 x 3 = 9 4 x 4 = 12 5 x 5 = 15 6 x 6 = 18 7 x 7 = 21 8 x 8 = 24 9 x 9 = 27  \n",
            "2 x 2 = 8 3 x 3 = 12 4 x 4 = 16 5 x 5 = 20 6 x 6 = 24 7 x 7 = 28 8 x 8 = 32 9 x 9 = 36  \n",
            "2 x 2 = 10 3 x 3 = 15 4 x 4 = 20 5 x 5 = 25 6 x 6 = 30 7 x 7 = 35 8 x 8 = 40 9 x 9 = 45  \n",
            "2 x 2 = 12 3 x 3 = 18 4 x 4 = 24 5 x 5 = 30 6 x 6 = 36 7 x 7 = 42 8 x 8 = 48 9 x 9 = 54  \n",
            "2 x 2 = 14 3 x 3 = 21 4 x 4 = 28 5 x 5 = 35 6 x 6 = 42 7 x 7 = 49 8 x 8 = 56 9 x 9 = 63  \n",
            "2 x 2 = 16 3 x 3 = 24 4 x 4 = 32 5 x 5 = 40 6 x 6 = 48 7 x 7 = 56 8 x 8 = 64 9 x 9 = 72  \n",
            "2 x 2 = 18 3 x 3 = 27 4 x 4 = 36 5 x 5 = 45 6 x 6 = 54 7 x 7 = 63 8 x 8 = 72 9 x 9 = 81 "
          ]
        }
      ]
    },
    {
      "cell_type": "code",
      "source": [
        "i = 0\n",
        "while(i<3):\n",
        "  print(i, \"컴퓨터과 3학년 1반\")\n",
        "  i = i + 1"
      ],
      "metadata": {
        "colab": {
          "base_uri": "https://localhost:8080/"
        },
        "id": "gVxYpHnSsEyI",
        "outputId": "9d9c7361-95c0-4e50-f90e-1bf8640011c4"
      },
      "execution_count": 48,
      "outputs": [
        {
          "output_type": "stream",
          "name": "stdout",
          "text": [
            "0 컴퓨터과 3학년 1반\n",
            "1 컴퓨터과 3학년 1반\n",
            "2 컴퓨터과 3학년 1반\n"
          ]
        }
      ]
    },
    {
      "cell_type": "code",
      "source": [
        "i =\n",
        "while True :\n",
        "  print(\"ㅎ\", end = \" \")\n",
        "  i = i + 1\n",
        "  if i == 10:\n",
        "    break"
      ],
      "metadata": {
        "colab": {
          "base_uri": "https://localhost:8080/"
        },
        "id": "zf96NjWXuk01",
        "outputId": "ec0031b4-617f-4c9e-978a-ac3e836ed58d"
      },
      "execution_count": 63,
      "outputs": [
        {
          "output_type": "stream",
          "name": "stdout",
          "text": [
            "ㅎ ㅎ ㅎ ㅎ ㅎ ㅎ ㅎ ㅎ ㅎ ㅎ "
          ]
        }
      ]
    }
  ]
}