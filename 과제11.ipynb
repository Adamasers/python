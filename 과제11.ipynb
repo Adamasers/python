{
  "nbformat": 4,
  "nbformat_minor": 0,
  "metadata": {
    "colab": {
      "provenance": [],
      "authorship_tag": "ABX9TyNhrXec3UBQwJc6G48Y1WdW",
      "include_colab_link": true
    },
    "kernelspec": {
      "name": "python3",
      "display_name": "Python 3"
    },
    "language_info": {
      "name": "python"
    }
  },
  "cells": [
    {
      "cell_type": "markdown",
      "metadata": {
        "id": "view-in-github",
        "colab_type": "text"
      },
      "source": [
        "<a href=\"https://colab.research.google.com/github/Adamasers/python/blob/main/%EA%B3%BC%EC%A0%9C11.ipynb\" target=\"_parent\"><img src=\"https://colab.research.google.com/assets/colab-badge.svg\" alt=\"Open In Colab\"/></a>"
      ]
    },
    {
      "cell_type": "code",
      "execution_count": 1,
      "metadata": {
        "colab": {
          "base_uri": "https://localhost:8080/"
        },
        "id": "CzmT2pI0e3a4",
        "outputId": "7704f539-01cb-47d0-921f-2418f29d174d"
      },
      "outputs": [
        {
          "output_type": "stream",
          "name": "stdout",
          "text": [
            "숫자 :10\n",
            "숫자 :20\n",
            "숫자 :30\n",
            "숫자 :40\n",
            "숫자 :50\n",
            "리스트의 합계 : 150\n"
          ]
        }
      ],
      "source": [
        "numList = [0,0,0,0,0]\n",
        "\n",
        "numList[0] = input(\"숫자 :\")\n",
        "numList[1] = input(\"숫자 :\")\n",
        "numList[2] = input(\"숫자 :\")\n",
        "numList[3] = input(\"숫자 :\")\n",
        "numList[4] = input(\"숫자 :\")\n",
        "\n",
        "sum = int(numList[0]) + int(numList[1]) + int(numList[2]) + int(numList[3]) + int(numList[4])\n",
        "print(\"리스트의 합계 :\", sum)\n"
      ]
    },
    {
      "cell_type": "code",
      "source": [
        "myList = [ ]\n",
        "\n",
        "myList.append(\"안산\")\n",
        "myList.append(\"공고\")\n",
        "myList.append(3100)\n",
        "myList.append(777)\n",
        "\n",
        "print(myList)"
      ],
      "metadata": {
        "colab": {
          "base_uri": "https://localhost:8080/"
        },
        "id": "Ka9CDvE3s4oC",
        "outputId": "0c1dd4fe-ff33-4e49-fb7c-7862478c742d"
      },
      "execution_count": 3,
      "outputs": [
        {
          "output_type": "stream",
          "name": "stdout",
          "text": [
            "['안산', '공고', 3100, 777]\n"
          ]
        }
      ]
    },
    {
      "cell_type": "code",
      "source": [
        "import random\n",
        "wiseSay = [\"중요한 건 꺾이지 않는 마음\", \"신은 용기있는자를 결코 버리지 않는다\", \"내일은 내일의 태양이 뜬다\", \"1퍼센트의 가능성, 그것이 나의 길이다.\", \"최고에 도달하려면 최저에서 시작하라.\"]\n",
        "rnd_say = wiseSay[random.randint(0,4)]\n",
        "print(\"오늘의 명언 ==>\", rnd_say)"
      ],
      "metadata": {
        "colab": {
          "base_uri": "https://localhost:8080/"
        },
        "id": "ZFL-9t2_tHyR",
        "outputId": "c87db8ba-660d-422d-9d7b-cdc1cf940aa4"
      },
      "execution_count": 8,
      "outputs": [
        {
          "output_type": "stream",
          "name": "stdout",
          "text": [
            "오늘의 명언 ==> 최고에 도달하려면 최저에서 시작하라.\n"
          ]
        }
      ]
    },
    {
      "cell_type": "code",
      "source": [
        "import datetime\n",
        "\n",
        "now = datetime.date.today()\n",
        "D_day = datetime.date(2023,11,16)\n",
        "D_day = D_day - now\n",
        "print(D_day.days)"
      ],
      "metadata": {
        "colab": {
          "base_uri": "https://localhost:8080/"
        },
        "id": "qyY3nKDg0FJY",
        "outputId": "7a9acb1a-8854-4f02-d6b1-a02af67320f7"
      },
      "execution_count": 11,
      "outputs": [
        {
          "output_type": "stream",
          "name": "stdout",
          "text": [
            "220\n"
          ]
        }
      ]
    }
  ]
}