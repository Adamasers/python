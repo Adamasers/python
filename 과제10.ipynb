{
  "nbformat": 4,
  "nbformat_minor": 0,
  "metadata": {
    "colab": {
      "provenance": [],
      "authorship_tag": "ABX9TyNtQm3mkHspHELorhnNdWwY",
      "include_colab_link": true
    },
    "kernelspec": {
      "name": "python3",
      "display_name": "Python 3"
    },
    "language_info": {
      "name": "python"
    }
  },
  "cells": [
    {
      "cell_type": "markdown",
      "metadata": {
        "id": "view-in-github",
        "colab_type": "text"
      },
      "source": [
        "<a href=\"https://colab.research.google.com/github/Adamasers/python/blob/main/%EA%B3%BC%EC%A0%9C10.ipynb\" target=\"_parent\"><img src=\"https://colab.research.google.com/assets/colab-badge.svg\" alt=\"Open In Colab\"/></a>"
      ]
    },
    {
      "cell_type": "code",
      "execution_count": 5,
      "metadata": {
        "colab": {
          "base_uri": "https://localhost:8080/"
        },
        "id": "EKEiYQeQQGGp",
        "outputId": "4078109d-a23a-4cfc-ec03-17a682118e27"
      },
      "outputs": [
        {
          "output_type": "stream",
          "name": "stdout",
          "text": [
            "주사위 3개가 모두 3 이다.\n",
            "같은 숫자가 나오기 까지 2 번 던졌다.\n"
          ]
        }
      ],
      "source": [
        "import random\n",
        "count = 0\n",
        "while True :\n",
        "  dice1 = random.randint(1,6)\n",
        "  dice2 = random.randint(1,6)\n",
        "  dice3 = random.randint(1,6)\n",
        "  count = count + 1\n",
        "  if dice1 == dice2 == dice3 :\n",
        "    print(\"주사위 3개가 모두\", dice1, \"이다.\")\n",
        "    print(\"같은 숫자가 나오기 까지\", count, \"번 던졌다.\")\n",
        "    break\n"
      ]
    },
    {
      "cell_type": "code",
      "source": [
        "import random\n",
        "count = 0\n",
        "r = random.randint(1,5)\n",
        "while count < 10 :\n",
        "  count = count + 1\n",
        "  print(\"게임\", count, \"회\" \"컴퓨터가 생각한 숫자는 ?\")\n",
        "  s = int(input(\" \"))\n",
        "  if r == s :\n",
        "    print(\"맞혔네요. 축하합니다 !!\")\n",
        "    break\n",
        "  else :\n",
        "    print(\"아까워요\", r, \"였는데 다시 해보세요. ㅠ\")\n"
      ],
      "metadata": {
        "colab": {
          "base_uri": "https://localhost:8080/"
        },
        "id": "cPJPoVxZR39l",
        "outputId": "3571263d-38fb-479f-9d60-6db1955d6bca"
      },
      "execution_count": 36,
      "outputs": [
        {
          "output_type": "stream",
          "name": "stdout",
          "text": [
            "게임 1 회컴퓨터가 생각한 숫자는 ?\n",
            " 4\n",
            "아까워요 3 였는데 다시 해보세요. ㅠ\n",
            "게임 2 회컴퓨터가 생각한 숫자는 ?\n",
            " 2\n",
            "아까워요 3 였는데 다시 해보세요. ㅠ\n",
            "게임 3 회컴퓨터가 생각한 숫자는 ?\n",
            " 6\n",
            "아까워요 3 였는데 다시 해보세요. ㅠ\n",
            "게임 4 회컴퓨터가 생각한 숫자는 ?\n",
            " 1\n",
            "아까워요 3 였는데 다시 해보세요. ㅠ\n",
            "게임 5 회컴퓨터가 생각한 숫자는 ?\n",
            " 2\n",
            "아까워요 3 였는데 다시 해보세요. ㅠ\n",
            "게임 6 회컴퓨터가 생각한 숫자는 ?\n",
            " 3\n",
            "맞혔네요. 축하합니다 !!\n"
          ]
        }
      ]
    },
    {
      "cell_type": "code",
      "source": [
        "import random\n",
        "count = 1\n",
        "strike = 0\n",
        "ball = 0\n",
        "\n",
        "sn = random.sample(range(1,10),3)\n",
        "\n",
        "while count <= 10:\n",
        "  strike = 0\n",
        "  ball = 0\n",
        "  print(sn)\n",
        "  pn = input(\"3자리 숫자를 입력 :\")\n",
        "  pn = list(pn)\n",
        "  pn[0] = int(pn[0])\n",
        "  pn[1] = int(pn[1])\n",
        "  pn[2] = int(pn[2])\n",
        "\n",
        "if (sn[0] == pn[0]) :\n",
        "  strike = strike + 1\n",
        "elif pn[0] in sn :\n",
        "  ball = ball + 1\n",
        "if (sn[1] == pn[1]) :\n",
        "  strike = strike + 1\n",
        "elif pn[1] in sn :\n",
        "  ball = ball + 1\n",
        "if (sn[2] == pn[2]) :\n",
        "  strike = strike + 1\n",
        "elif pn[2] in sn :\n",
        "  ball = ball + 1\n",
        "\n",
        "print(strike, \"-스트라이크//\", ball, \"-볼\")\n",
        "if strike == 3 :\n",
        "  print(\"맞췄습니다\")\n",
        "  \n",
        "  break\n"
      ],
      "metadata": {
        "colab": {
          "base_uri": "https://localhost:8080/"
        },
        "id": "djHTqUOCXdVL",
        "outputId": "854ca6e1-fcf3-41f2-a540-fb97d31a312c"
      },
      "execution_count": null,
      "outputs": [
        {
          "output_type": "stream",
          "name": "stdout",
          "text": [
            "[4, 1, 2]\n",
            "3자리 숫자를 입력 :123\n",
            "[4, 1, 2]\n",
            "3자리 숫자를 입력 :245\n",
            "[4, 1, 2]\n",
            "3자리 숫자를 입력 :412\n",
            "[4, 1, 2]\n",
            "3자리 숫자를 입력 :358\n",
            "[4, 1, 2]\n",
            "3자리 숫자를 입력 :621\n",
            "[4, 1, 2]\n",
            "3자리 숫자를 입력 :423\n",
            "[4, 1, 2]\n",
            "3자리 숫자를 입력 :6235\n",
            "[4, 1, 2]\n",
            "3자리 숫자를 입력 :153.\n",
            "[4, 1, 2]\n",
            "3자리 숫자를 입력 :153\n",
            "[4, 1, 2]\n",
            "3자리 숫자를 입력 :846\n",
            "[4, 1, 2]\n",
            "3자리 숫자를 입력 :621\n",
            "[4, 1, 2]\n",
            "3자리 숫자를 입력 :423\n",
            "[4, 1, 2]\n",
            "3자리 숫자를 입력 :412\n",
            "[4, 1, 2]\n",
            "3자리 숫자를 입력 :142\n",
            "[4, 1, 2]\n",
            "3자리 숫자를 입력 :241\n",
            "[4, 1, 2]\n",
            "3자리 숫자를 입력 :412\n",
            "[4, 1, 2]\n"
          ]
        }
      ]
    }
  ]
}