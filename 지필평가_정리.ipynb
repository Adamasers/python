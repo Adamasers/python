{
  "nbformat": 4,
  "nbformat_minor": 0,
  "metadata": {
    "colab": {
      "provenance": [],
      "authorship_tag": "ABX9TyP7DZ7Oyfgd+rbVg2dLHHdH",
      "include_colab_link": true
    },
    "kernelspec": {
      "name": "python3",
      "display_name": "Python 3"
    },
    "language_info": {
      "name": "python"
    }
  },
  "cells": [
    {
      "cell_type": "markdown",
      "metadata": {
        "id": "view-in-github",
        "colab_type": "text"
      },
      "source": [
        "<a href=\"https://colab.research.google.com/github/Adamasers/python/blob/main/%EC%A7%80%ED%95%84%ED%8F%89%EA%B0%80_%EC%A0%95%EB%A6%AC.ipynb\" target=\"_parent\"><img src=\"https://colab.research.google.com/assets/colab-badge.svg\" alt=\"Open In Colab\"/></a>"
      ]
    },
    {
      "cell_type": "markdown",
      "source": [
        "1.파이썬 프로그래밍 언어의 장점 (1.ppt)\n",
        "\n",
        "무료 오픈 소스  \n",
        "\n",
        "모바일 컴퓨팅 분야에 지원이 약함  \n",
        "\n",
        "다른 언어에 비해 실행 속도가 느림  \n",
        "\n",
        "다양하고 강력한 외부 라이브러리 제공\n",
        "\n",
        "2.파이썬 문법의 예약어 (2.ppt)  \n",
        "\n",
        "3.키보드로부터 입력받은 값을 변수에 저장할 수 있도록 도와주는 함수 (2.ppt)  \n"
      ],
      "metadata": {
        "id": "_WdNKhbMGX1z"
      }
    },
    {
      "cell_type": "code",
      "source": [
        "num = input()\n",
        "print(num)"
      ],
      "metadata": {
        "colab": {
          "base_uri": "https://localhost:8080/"
        },
        "id": "sEC-_bLrHLNa",
        "outputId": "2304d381-fca2-45d6-d3a2-e7974f861ea0"
      },
      "execution_count": null,
      "outputs": [
        {
          "output_type": "stream",
          "name": "stdout",
          "text": [
            "12\n",
            "12\n"
          ]
        }
      ]
    },
    {
      "cell_type": "markdown",
      "source": [
        "4.연산자(3.ppt)"
      ],
      "metadata": {
        "id": "_rIkQkc4HWHK"
      }
    },
    {
      "cell_type": "code",
      "source": [
        "num = 4\n",
        "result = num // 2\n",
        "print(result)"
      ],
      "metadata": {
        "colab": {
          "base_uri": "https://localhost:8080/"
        },
        "id": "DmuchTqFHeB5",
        "outputId": "6d562e62-3e5c-4f84-b54d-e7b0f512434d"
      },
      "execution_count": null,
      "outputs": [
        {
          "output_type": "stream",
          "name": "stdout",
          "text": [
            "2\n"
          ]
        }
      ]
    },
    {
      "cell_type": "markdown",
      "source": [
        "5.대입연산자(3.ppt)  \n",
        "여러개의 대입연산"
      ],
      "metadata": {
        "id": "E5f1BTc5Hn-K"
      }
    },
    {
      "cell_type": "code",
      "source": [
        "n1 = 100\n",
        "n1, n2 = 100, 200\n",
        "n1, n2, n3 = 100, 200, 300\n",
        "n1, n2, n3, n4 = 100, 200, 300, 400\n",
        "n1, n2, n3, n4, n5 = 100, 200, 300, 400"
      ],
      "metadata": {
        "colab": {
          "base_uri": "https://localhost:8080/",
          "height": 211
        },
        "id": "fRQgWPfFH0K5",
        "outputId": "78af7b9f-af15-48f9-b26b-93f66f14ee48"
      },
      "execution_count": null,
      "outputs": [
        {
          "output_type": "error",
          "ename": "ValueError",
          "evalue": "ignored",
          "traceback": [
            "\u001b[0;31m---------------------------------------------------------------------------\u001b[0m",
            "\u001b[0;31mValueError\u001b[0m                                Traceback (most recent call last)",
            "\u001b[0;32m<ipython-input-4-06d8c4f521b2>\u001b[0m in \u001b[0;36m<cell line: 5>\u001b[0;34m()\u001b[0m\n\u001b[1;32m      3\u001b[0m \u001b[0mn1\u001b[0m\u001b[0;34m,\u001b[0m \u001b[0mn2\u001b[0m\u001b[0;34m,\u001b[0m \u001b[0mn3\u001b[0m \u001b[0;34m=\u001b[0m \u001b[0;36m100\u001b[0m\u001b[0;34m,\u001b[0m \u001b[0;36m200\u001b[0m\u001b[0;34m,\u001b[0m \u001b[0;36m300\u001b[0m\u001b[0;34m\u001b[0m\u001b[0;34m\u001b[0m\u001b[0m\n\u001b[1;32m      4\u001b[0m \u001b[0mn1\u001b[0m\u001b[0;34m,\u001b[0m \u001b[0mn2\u001b[0m\u001b[0;34m,\u001b[0m \u001b[0mn3\u001b[0m\u001b[0;34m,\u001b[0m \u001b[0mn4\u001b[0m \u001b[0;34m=\u001b[0m \u001b[0;36m100\u001b[0m\u001b[0;34m,\u001b[0m \u001b[0;36m200\u001b[0m\u001b[0;34m,\u001b[0m \u001b[0;36m300\u001b[0m\u001b[0;34m,\u001b[0m \u001b[0;36m400\u001b[0m\u001b[0;34m\u001b[0m\u001b[0;34m\u001b[0m\u001b[0m\n\u001b[0;32m----> 5\u001b[0;31m \u001b[0mn1\u001b[0m\u001b[0;34m,\u001b[0m \u001b[0mn2\u001b[0m\u001b[0;34m,\u001b[0m \u001b[0mn3\u001b[0m\u001b[0;34m,\u001b[0m \u001b[0mn4\u001b[0m\u001b[0;34m,\u001b[0m \u001b[0mn5\u001b[0m \u001b[0;34m=\u001b[0m \u001b[0;36m100\u001b[0m\u001b[0;34m,\u001b[0m \u001b[0;36m200\u001b[0m\u001b[0;34m,\u001b[0m \u001b[0;36m300\u001b[0m\u001b[0;34m,\u001b[0m \u001b[0;36m400\u001b[0m\u001b[0;34m\u001b[0m\u001b[0;34m\u001b[0m\u001b[0m\n\u001b[0m",
            "\u001b[0;31mValueError\u001b[0m: not enough values to unpack (expected 5, got 4)"
          ]
        }
      ]
    },
    {
      "cell_type": "markdown",
      "source": [
        "6. 비교 연산자(3.ppt)"
      ],
      "metadata": {
        "id": "N5HX8gfqHzdx"
      }
    },
    {
      "cell_type": "code",
      "source": [
        "var1 = (30 > 300)\n",
        "var2 = (300 <= 300)\n",
        "var3 = (30 <= 300)\n",
        "var4 = (300 > 30)\n",
        "var5 = (300 == 300)\n",
        "\n",
        "print(var1, var2, var3, var4, var5)"
      ],
      "metadata": {
        "colab": {
          "base_uri": "https://localhost:8080/"
        },
        "id": "1JTBX51cItLZ",
        "outputId": "5da7424f-348b-4d98-d0e0-925effb8d91e"
      },
      "execution_count": null,
      "outputs": [
        {
          "output_type": "stream",
          "name": "stdout",
          "text": [
            "False True True True True\n"
          ]
        }
      ]
    },
    {
      "cell_type": "markdown",
      "source": [
        "7. len()함수 (4.ppt)"
      ],
      "metadata": {
        "id": "sPBQovoUJIcY"
      }
    },
    {
      "cell_type": "code",
      "source": [
        "var1 = \"안산공업고등학교\"\n",
        "len(var1)"
      ],
      "metadata": {
        "colab": {
          "base_uri": "https://localhost:8080/"
        },
        "id": "S78WS5EVJzCL",
        "outputId": "fa217c4a-0df7-4450-83a5-041468b6d9b5"
      },
      "execution_count": 6,
      "outputs": [
        {
          "output_type": "execute_result",
          "data": {
            "text/plain": [
              "8"
            ]
          },
          "metadata": {},
          "execution_count": 6
        }
      ]
    },
    {
      "cell_type": "markdown",
      "source": [
        "8. lower()함수(4.ppt)"
      ],
      "metadata": {
        "id": "Ry-w85LMJ7lx"
      }
    },
    {
      "cell_type": "code",
      "source": [
        "var1 = \"Ansan\"\n",
        "print(var1.lower())"
      ],
      "metadata": {
        "colab": {
          "base_uri": "https://localhost:8080/"
        },
        "id": "cbdcLsxAKAxg",
        "outputId": "4d54b785-20e4-4212-9bf9-4094ea0001ce"
      },
      "execution_count": 7,
      "outputs": [
        {
          "output_type": "stream",
          "name": "stdout",
          "text": [
            "ansan\n"
          ]
        }
      ]
    },
    {
      "cell_type": "markdown",
      "source": [
        "9.count()함수(4.ppt)  \n",
        "문자열에서 어떤 글자가 몇 번 등장하는지 확인함"
      ],
      "metadata": {
        "id": "LS6MiFnwKJK4"
      }
    },
    {
      "cell_type": "code",
      "source": [
        "var1 = \"안산공업고등학교 컴퓨터과\"\n",
        "print(var1.count(\"컴퓨터\"))"
      ],
      "metadata": {
        "colab": {
          "base_uri": "https://localhost:8080/"
        },
        "id": "mb84554VKh85",
        "outputId": "5e1f28f9-b747-4095-c739-4cc1fd5b0e08"
      },
      "execution_count": 8,
      "outputs": [
        {
          "output_type": "stream",
          "name": "stdout",
          "text": [
            "1\n"
          ]
        }
      ]
    },
    {
      "cell_type": "markdown",
      "source": [
        "10. 문자열의 위치 (4.ppt)"
      ],
      "metadata": {
        "id": "4108fYSDK2jY"
      }
    },
    {
      "cell_type": "code",
      "source": [
        "school = \"안산공고\"\n",
        "print(school[3], end='')\n",
        "print(school[2], end='')\n",
        "print(school[1], end='')\n",
        "print(school[0], end='')"
      ],
      "metadata": {
        "colab": {
          "base_uri": "https://localhost:8080/"
        },
        "id": "54DrDznkK6fg",
        "outputId": "c9fe267a-a423-4430-f56f-9fddc9f886e0"
      },
      "execution_count": 9,
      "outputs": [
        {
          "output_type": "stream",
          "name": "stdout",
          "text": [
            "고공산안"
          ]
        }
      ]
    },
    {
      "cell_type": "markdown",
      "source": [
        "11. 순차구조 - 선택구조 - 반복구조(5.ppt)  \n",
        "  \n",
        "  2가지 중 하나의  흐름으로 실행되는 구조(선택구조)  \n",
        "  순서대로만 실행되는 구조는 (순차구조)  \n",
        "  동일한 코드, 특정한 단계가 여러 번 반복해서 실행(반복구조)  \n",
        "  \n",
        "12. if문 (5.ppt)"
      ],
      "metadata": {
        "id": "lu0b53ZvLJaT"
      }
    },
    {
      "cell_type": "code",
      "source": [
        "number = int(input(\"숫자==>\"))\n",
        "\n",
        "if(number %2 == 1 ) :\n",
        "  print(\"홀수\")\n",
        "else :\n",
        "  print(\"짝수\")"
      ],
      "metadata": {
        "colab": {
          "base_uri": "https://localhost:8080/"
        },
        "id": "4snIhskWLSFw",
        "outputId": "ab86480b-771c-4f0f-b8da-b0b4ef9db95b"
      },
      "execution_count": 11,
      "outputs": [
        {
          "output_type": "stream",
          "name": "stdout",
          "text": [
            "숫자==>13\n",
            "홀수\n"
          ]
        }
      ]
    },
    {
      "cell_type": "markdown",
      "source": [
        "13. for문 (6.ppt)\n"
      ],
      "metadata": {
        "id": "uMTcQQTyPb6Q"
      }
    },
    {
      "cell_type": "code",
      "source": [
        "for i in range(3) :\n",
        "  print(\"안산공고\")"
      ],
      "metadata": {
        "colab": {
          "base_uri": "https://localhost:8080/"
        },
        "id": "jh_HFyJdQRln",
        "outputId": "bd28c7ec-a146-4792-ae56-589b1482b96f"
      },
      "execution_count": 12,
      "outputs": [
        {
          "output_type": "stream",
          "name": "stdout",
          "text": [
            "안산공고\n",
            "안산공고\n",
            "안산공고\n"
          ]
        }
      ]
    },
    {
      "cell_type": "code",
      "source": [
        "14. 중첩 for문(6.ppt)"
      ],
      "metadata": {
        "id": "2icMoYTpQYjo"
      },
      "execution_count": null,
      "outputs": []
    },
    {
      "cell_type": "code",
      "source": [
        "for i in range(3) :\n",
        "  for j in range(3) :\n",
        "    print(\"안산공고\")"
      ],
      "metadata": {
        "colab": {
          "base_uri": "https://localhost:8080/"
        },
        "id": "KTHa1qGKQcX4",
        "outputId": "4eb1a6df-550b-4da1-d9db-ead5f4ee7ed2"
      },
      "execution_count": 14,
      "outputs": [
        {
          "output_type": "stream",
          "name": "stdout",
          "text": [
            "안산공고\n",
            "안산공고\n",
            "안산공고\n",
            "안산공고\n",
            "안산공고\n",
            "안산공고\n",
            "안산공고\n",
            "안산공고\n",
            "안산공고\n"
          ]
        }
      ]
    },
    {
      "cell_type": "markdown",
      "source": [
        "15. 리스트 (7.ppt)\n"
      ],
      "metadata": {
        "id": "UUKrwO99QhTQ"
      }
    },
    {
      "cell_type": "code",
      "source": [
        "a = (100)\n",
        "b = [3.14]\n",
        "c = ['안산']\n",
        "d = [True]\n",
        "e = [False]\n",
        "\n",
        "print(type(a))\n",
        "print(type(b))\n",
        "print(type(c))\n",
        "print(type(d))\n",
        "print(type(e))"
      ],
      "metadata": {
        "colab": {
          "base_uri": "https://localhost:8080/"
        },
        "id": "38fgdlPpQmD3",
        "outputId": "7bf1349c-7dd5-410b-8d3d-86d390c4deca"
      },
      "execution_count": 13,
      "outputs": [
        {
          "output_type": "stream",
          "name": "stdout",
          "text": [
            "<class 'int'>\n",
            "<class 'list'>\n",
            "<class 'list'>\n",
            "<class 'list'>\n",
            "<class 'list'>\n"
          ]
        }
      ]
    },
    {
      "cell_type": "markdown",
      "source": [
        "16. 리스트 언덱싱 (7.ppt)"
      ],
      "metadata": {
        "id": "qvNiBNFdRXug"
      }
    },
    {
      "cell_type": "code",
      "source": [
        "numList = [10, 20, 30, 40]\n",
        "print(numList[0:3])"
      ],
      "metadata": {
        "colab": {
          "base_uri": "https://localhost:8080/"
        },
        "id": "CfNw4tqqRZNP",
        "outputId": "07206b50-1c7f-48da-b65e-6e5e8881b708"
      },
      "execution_count": 15,
      "outputs": [
        {
          "output_type": "stream",
          "name": "stdout",
          "text": [
            "[10, 20, 30]\n"
          ]
        }
      ]
    },
    {
      "cell_type": "markdown",
      "source": [
        "17. 함수의 장점 (8.ppt)\n",
        "  \n",
        "에러 수정이 쉽다  \n",
        "개발 시간을 단축할 수 있다  \n",
        "프로그램 유지 보수에 효과적이다  \n",
        "하나의 큰 프로그램을 기능별로 분리할 수 있다  \n",
        "이미 정의된 함수는 여러번 호출이 가능하다  \n",
        "  \n",
        "18. 함수의 정의 (8.ppt)"
      ],
      "metadata": {
        "id": "_d83Lug0RZbX"
      }
    },
    {
      "cell_type": "code",
      "source": [
        "def fun1() :\n",
        "  pass"
      ],
      "metadata": {
        "id": "MFCaDZzuSF6P"
      },
      "execution_count": null,
      "outputs": []
    },
    {
      "cell_type": "markdown",
      "source": [
        "19. 함수 안에서 사용되는 변수로 지역변수 대신에 무조건 전역변수로 사용하고 싶은 경우에 사용하는 예약어 (8.ppt)"
      ],
      "metadata": {
        "id": "Np-A91X3SH-X"
      }
    },
    {
      "cell_type": "markdown",
      "source": [
        "20. 파일 읽기의 3단계 (9.ppt)  \n",
        "  \n",
        "**파일 열기 - 파일 읽기 - 파일 닫기**  \n",
        "  \n",
        "21. 파이썬에서 기본적으로 제공하는 GUI 라이브러리  \n",
        "tkinter  \n",
        "  \n",
        "22. 원도우 창의 제목을 설정  \n",
        "window.title(\"simple Calculator\")"
      ],
      "metadata": {
        "id": "8AiSRA29UKZe"
      }
    }
  ]
}