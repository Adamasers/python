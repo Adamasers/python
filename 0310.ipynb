{
  "nbformat": 4,
  "nbformat_minor": 0,
  "metadata": {
    "colab": {
      "provenance": [],
      "authorship_tag": "ABX9TyN4kktWaPWJ4zceR/v8DCum",
      "include_colab_link": true
    },
    "kernelspec": {
      "name": "python3",
      "display_name": "Python 3"
    },
    "language_info": {
      "name": "python"
    }
  },
  "cells": [
    {
      "cell_type": "markdown",
      "metadata": {
        "id": "view-in-github",
        "colab_type": "text"
      },
      "source": [
        "<a href=\"https://colab.research.google.com/github/Adamasers/python/blob/main/0310.ipynb\" target=\"_parent\"><img src=\"https://colab.research.google.com/assets/colab-badge.svg\" alt=\"Open In Colab\"/></a>"
      ]
    },
    {
      "cell_type": "code",
      "execution_count": null,
      "metadata": {
        "id": "izLGu6g9Fe0L"
      },
      "outputs": [],
      "source": [
        " "
      ]
    },
    {
      "cell_type": "markdown",
      "source": [
        "#제목\n",
        "##타이틀\n",
        "\n",
        "컴퓨터과 3학년 1반  \n",
        "유경민"
      ],
      "metadata": {
        "id": "18r63DS6F4pl"
      }
    },
    {
      "cell_type": "code",
      "source": [
        "print(\"오늘은 금요일\")\n",
        "print(\"나 혼자 심심해\")"
      ],
      "metadata": {
        "colab": {
          "base_uri": "https://localhost:8080/"
        },
        "id": "arl3P9kVGEKe",
        "outputId": "495c20ce-0d42-4d80-9fb2-ae30b7835a47"
      },
      "execution_count": 3,
      "outputs": [
        {
          "output_type": "stream",
          "name": "stdout",
          "text": [
            "오늘은 금요일\n",
            "나 혼자 심심해\n"
          ]
        }
      ]
    },
    {
      "cell_type": "code",
      "source": [
        "print(\"친구랑 게임 한판!\")"
      ],
      "metadata": {
        "colab": {
          "base_uri": "https://localhost:8080/"
        },
        "id": "F7jhSK0ZGVtO",
        "outputId": "6c9b127c-1bb7-4817-bf74-63b4e10cec21"
      },
      "execution_count": 4,
      "outputs": [
        {
          "output_type": "stream",
          "name": "stdout",
          "text": [
            "친구랑 게임 한판!\n"
          ]
        }
      ]
    }
  ]
}