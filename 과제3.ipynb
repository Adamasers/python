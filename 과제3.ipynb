{
  "nbformat": 4,
  "nbformat_minor": 0,
  "metadata": {
    "colab": {
      "provenance": [],
      "authorship_tag": "ABX9TyMjO+HZrVCnRAkN7VOJ7XJr",
      "include_colab_link": true
    },
    "kernelspec": {
      "name": "python3",
      "display_name": "Python 3"
    },
    "language_info": {
      "name": "python"
    }
  },
  "cells": [
    {
      "cell_type": "markdown",
      "metadata": {
        "id": "view-in-github",
        "colab_type": "text"
      },
      "source": [
        "<a href=\"https://colab.research.google.com/github/Adamasers/python/blob/main/%EA%B3%BC%EC%A0%9C3.ipynb\" target=\"_parent\"><img src=\"https://colab.research.google.com/assets/colab-badge.svg\" alt=\"Open In Colab\"/></a>"
      ]
    },
    {
      "cell_type": "code",
      "source": [
        "a = int(input(\"파운드(lb)를 입력하세요 :\"))\n",
        "b = a * 0.453592\n",
        "print(a, \"파운드(lb)는\", round(b,5), \"킬로그램입니다.\")\n",
        "\n",
        "b = int(input(\"킬로그램을 입력하세요: \"))\n",
        "a = b * 2.204623\n",
        "print(b, \"킬로그램은\", round(a, 5), \"파운드입니다\")"
      ],
      "metadata": {
        "colab": {
          "base_uri": "https://localhost:8080/"
        },
        "id": "-D5gP0gMOWFL",
        "outputId": "23e89dac-4ae4-4c08-bbf4-48bacc6bf8b6"
      },
      "execution_count": 17,
      "outputs": [
        {
          "output_type": "stream",
          "name": "stdout",
          "text": [
            "파운드(lb)를 입력하세요 :15\n",
            "15 파운드(lb)는 6.80388 킬로그램입니다.\n",
            "킬로그램을 입력하세요: 15\n",
            "15 킬로그램은 33.06935 파운드입니다\n"
          ]
        }
      ]
    }
  ]
}