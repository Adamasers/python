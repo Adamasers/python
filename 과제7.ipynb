{
  "nbformat": 4,
  "nbformat_minor": 0,
  "metadata": {
    "colab": {
      "provenance": [],
      "authorship_tag": "ABX9TyMxgW7BffCWEulSdCDve7JR",
      "include_colab_link": true
    },
    "kernelspec": {
      "name": "python3",
      "display_name": "Python 3"
    },
    "language_info": {
      "name": "python"
    }
  },
  "cells": [
    {
      "cell_type": "markdown",
      "metadata": {
        "id": "view-in-github",
        "colab_type": "text"
      },
      "source": [
        "<a href=\"https://colab.research.google.com/github/Adamasers/python/blob/main/%EA%B3%BC%EC%A0%9C7.ipynb\" target=\"_parent\"><img src=\"https://colab.research.google.com/assets/colab-badge.svg\" alt=\"Open In Colab\"/></a>"
      ]
    },
    {
      "cell_type": "code",
      "execution_count": 7,
      "metadata": {
        "colab": {
          "base_uri": "https://localhost:8080/"
        },
        "id": "i4NmieQwXsGU",
        "outputId": "02f86962-ebfe-40aa-a983-5fa9fce6300b"
      },
      "outputs": [
        {
          "output_type": "stream",
          "name": "stdout",
          "text": [
            "100q 보다 큽니다.\n",
            "프로그램\n",
            "끝\n"
          ]
        }
      ],
      "source": [
        "num = 200\n",
        "if num > 100 :\n",
        " print(\"100q 보다 큽니다.\")\n",
        " print(\"프로그램\")\n",
        " print(\"끝\")"
      ]
    },
    {
      "cell_type": "code",
      "source": [
        "num = int(input(\"점수를 입력:\"))\n",
        "if num%2 == 0 :\n",
        "  print(\"짝수\")\n",
        "  print(\"입니다\")\n",
        "else :\n",
        "  print(\"홀수\")"
      ],
      "metadata": {
        "colab": {
          "base_uri": "https://localhost:8080/"
        },
        "id": "2BgC4_tvYQCr",
        "outputId": "5ed01a9d-dfd6-420d-cf4f-61314a090ee7"
      },
      "execution_count": 10,
      "outputs": [
        {
          "output_type": "stream",
          "name": "stdout",
          "text": [
            "점수를 입력:12\n",
            "짝수\n",
            "입니다\n"
          ]
        }
      ]
    },
    {
      "cell_type": "code",
      "source": [
        "num = int(input(\"숫자를 입력:\"))\n",
        "if num > 100 :\n",
        "   if num <= 1000 :\n",
        "      print(\"100에서 1000 사이이다.\")\n",
        "   else :\n",
        "      print(\"1000보다 크다.\")\n",
        "else :\n",
        "  print(\"100보다 작다.\")\n"
      ],
      "metadata": {
        "colab": {
          "base_uri": "https://localhost:8080/"
        },
        "id": "wMJo2hVwYyca",
        "outputId": "905b3224-40f7-4fc5-cfdf-c3070a7a9db9"
      },
      "execution_count": 26,
      "outputs": [
        {
          "output_type": "stream",
          "name": "stdout",
          "text": [
            "숫자를 입력:1100\n",
            "1000보다 크다.\n"
          ]
        }
      ]
    },
    {
      "cell_type": "code",
      "source": [
        "num = int(input(\"학점을 입력 ==>\"))\n",
        "if num >= 90 :\n",
        "  print(\"A 학점입니다.\")\n",
        "else :\n",
        "  if num >= 80 :\n",
        "    print(\"B 학점입니다.\")\n",
        "  else  :\n",
        "    if num >= 70 :\n",
        "      print(\"C 학점입니다\")\n",
        "    else :\n",
        "      print(\"F 학점입니다\")"
      ],
      "metadata": {
        "colab": {
          "base_uri": "https://localhost:8080/"
        },
        "id": "lpiBwYhIcgET",
        "outputId": "cb1a8d61-5f47-4589-aae0-37ee3b382d78"
      },
      "execution_count": 32,
      "outputs": [
        {
          "output_type": "stream",
          "name": "stdout",
          "text": [
            "학점을 입력 ==>80\n",
            "B 학점입니다.\n"
          ]
        }
      ]
    }
  ]
}