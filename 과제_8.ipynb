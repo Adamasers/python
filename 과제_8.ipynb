{
  "nbformat": 4,
  "nbformat_minor": 0,
  "metadata": {
    "colab": {
      "provenance": [],
      "authorship_tag": "ABX9TyMgRxmgCXNLWLJslS27mKyc",
      "include_colab_link": true
    },
    "kernelspec": {
      "name": "python3",
      "display_name": "Python 3"
    },
    "language_info": {
      "name": "python"
    }
  },
  "cells": [
    {
      "cell_type": "markdown",
      "metadata": {
        "id": "view-in-github",
        "colab_type": "text"
      },
      "source": [
        "<a href=\"https://colab.research.google.com/github/Adamasers/python/blob/main/%EA%B3%BC%EC%A0%9C_8.ipynb\" target=\"_parent\"><img src=\"https://colab.research.google.com/assets/colab-badge.svg\" alt=\"Open In Colab\"/></a>"
      ]
    },
    {
      "cell_type": "code",
      "execution_count": 7,
      "metadata": {
        "colab": {
          "base_uri": "https://localhost:8080/"
        },
        "id": "cg1tPeHAXvKi",
        "outputId": "553b8559-0d49-4492-c837-b901c9278ae2"
      },
      "outputs": [
        {
          "output_type": "stream",
          "name": "stdout",
          "text": [
            "32\n"
          ]
        }
      ],
      "source": [
        "import random\n",
        "\n",
        "rndNumber = random.randint(1,45)\n",
        "\n",
        "print(rndNumber)"
      ]
    },
    {
      "cell_type": "code",
      "source": [
        "import random\n",
        "lottoNumber = [0,0,0,0,0,0]\n",
        "\n",
        "for i in range(6):\n",
        "  lottoNumber [i] = random.randint(1, 45)\n",
        "for i in range(6):\n",
        "   print(lottoNumber[i], end = \" \")\n"
      ],
      "metadata": {
        "colab": {
          "base_uri": "https://localhost:8080/"
        },
        "id": "dktjPWqmYzoJ",
        "outputId": "59193ec3-0682-416b-9415-e1451d78149e"
      },
      "execution_count": 13,
      "outputs": [
        {
          "output_type": "stream",
          "name": "stdout",
          "text": [
            "26 22 32 25 41 34 "
          ]
        }
      ]
    },
    {
      "cell_type": "code",
      "source": [
        "from IPython.utils.text import compute_item_matrix\n",
        "import random\n",
        "computer = \"\"\n",
        "player = \"\"\n",
        "\n",
        "player = input(\"나의 가위/바위/보:\")\n",
        "computer = random.choice([\"가위\", \"비위\", \"보\"])\n",
        "if computer == player:\n",
        "  print(computer, \"비겼다.\")\n",
        "elif (player == \"가위\" and computer == \"보\") or \\\n",
        "(player == \"바위\" and computer == \"가위\") or \\\n",
        "(player == \"보\" and computer == \"바위\"):\n",
        "  print(computer, \"이겼다.\")\n",
        "else :\n",
        "  print(computer, \"졌다.\")"
      ],
      "metadata": {
        "colab": {
          "base_uri": "https://localhost:8080/"
        },
        "id": "iQ0P3L1AdAzJ",
        "outputId": "daf4eec5-0b2e-4a76-d514-fcddb845c028"
      },
      "execution_count": 33,
      "outputs": [
        {
          "output_type": "stream",
          "name": "stdout",
          "text": [
            "나의 가위/바위/보:바위\n",
            "가위 이겼다.\n"
          ]
        }
      ]
    }
  ]
}