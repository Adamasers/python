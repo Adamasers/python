{
  "nbformat": 4,
  "nbformat_minor": 0,
  "metadata": {
    "colab": {
      "provenance": [],
      "authorship_tag": "ABX9TyNQMzakoWxBDOBlx3YNiAKj",
      "include_colab_link": true
    },
    "kernelspec": {
      "name": "python3",
      "display_name": "Python 3"
    },
    "language_info": {
      "name": "python"
    }
  },
  "cells": [
    {
      "cell_type": "markdown",
      "metadata": {
        "id": "view-in-github",
        "colab_type": "text"
      },
      "source": [
        "<a href=\"https://colab.research.google.com/github/Adamasers/python/blob/main/myFirstPython.ipynb\" target=\"_parent\"><img src=\"https://colab.research.google.com/assets/colab-badge.svg\" alt=\"Open In Colab\"/></a>"
      ]
    },
    {
      "cell_type": "markdown",
      "source": [
        "2023학년도 응용프로그래밍 화면구현  \n",
        "파이썬 기초"
      ],
      "metadata": {
        "id": "BxUu_gYXiiNF"
      }
    },
    {
      "cell_type": "code",
      "source": [
        "print(\"안산공업고등학교\")\n",
        "print(\"컴퓨터과 3학년 1반 18번 유경민\")\n",
        "print(\"파이썬 기초 수업\")"
      ],
      "metadata": {
        "colab": {
          "base_uri": "https://localhost:8080/"
        },
        "id": "htQ9i6OIiwBF",
        "outputId": "80ed1789-862a-4264-ec04-b45020a5934b"
      },
      "execution_count": 2,
      "outputs": [
        {
          "output_type": "stream",
          "name": "stdout",
          "text": [
            "안산공업고등학교\n",
            "컴퓨터과 3학년 1반 18번 유경민\n",
            "파이썬 기초 수업\n"
          ]
        }
      ]
    }
  ]
}