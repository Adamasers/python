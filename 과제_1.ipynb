{
  "nbformat": 4,
  "nbformat_minor": 0,
  "metadata": {
    "colab": {
      "provenance": [],
      "authorship_tag": "ABX9TyMt9gcuVNWi3uaoj0svh7OV",
      "include_colab_link": true
    },
    "kernelspec": {
      "name": "python3",
      "display_name": "Python 3"
    },
    "language_info": {
      "name": "python"
    }
  },
  "cells": [
    {
      "cell_type": "markdown",
      "metadata": {
        "id": "view-in-github",
        "colab_type": "text"
      },
      "source": [
        "<a href=\"https://colab.research.google.com/github/Adamasers/python/blob/main/%EA%B3%BC%EC%A0%9C_1.ipynb\" target=\"_parent\"><img src=\"https://colab.research.google.com/assets/colab-badge.svg\" alt=\"Open In Colab\"/></a>"
      ]
    },
    {
      "cell_type": "code",
      "execution_count": 3,
      "metadata": {
        "colab": {
          "base_uri": "https://localhost:8080/"
        },
        "id": "qrAj_-6nVWdJ",
        "outputId": "fd8465d5-8277-40da-dfac-f0d28513576e"
      },
      "outputs": [
        {
          "output_type": "stream",
          "name": "stdout",
          "text": [
            "## 택배를 보내기 위한 정보를 입력하세요 ##\n",
            "받는 사람:유경민\n",
            "주소:경기도 안산시 상록구 예술광장 1로 131 8동 901호\n",
            "무게(g):321\n",
            "** 받는 사람 ==> 유경민\n",
            "** wnth ==> 경기도 안산시 상록구 예술광장 1로 131 8동 901호\n",
            "**배송비 ==> 1605 원\n"
          ]
        }
      ],
      "source": [
        "print(\"## 택배를 보내기 위한 정보를 입력하세요 ##\")\n",
        "recieve_name = input(\"받는 사람:\")\n",
        "address =  input(\"주소:\")\n",
        "weight = int(input(\"무게(g):\"))\n",
        "value = weight * 5\n",
        "\n",
        "print(\"** 받는 사람 ==>\", recieve_name)\n",
        "print(\"** wnth ==>\", address)\n",
        "print(\"**배송비 ==>\", weight * 5, \"원\")\n"
      ]
    }
  ]
}