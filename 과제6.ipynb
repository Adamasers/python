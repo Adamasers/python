{
  "nbformat": 4,
  "nbformat_minor": 0,
  "metadata": {
    "colab": {
      "provenance": [],
      "authorship_tag": "ABX9TyMPqofcddG+mcbkRyc9vAPW",
      "include_colab_link": true
    },
    "kernelspec": {
      "name": "python3",
      "display_name": "Python 3"
    },
    "language_info": {
      "name": "python"
    }
  },
  "cells": [
    {
      "cell_type": "markdown",
      "metadata": {
        "id": "view-in-github",
        "colab_type": "text"
      },
      "source": [
        "<a href=\"https://colab.research.google.com/github/Adamasers/python/blob/main/%EA%B3%BC%EC%A0%9C6.ipynb\" target=\"_parent\"><img src=\"https://colab.research.google.com/assets/colab-badge.svg\" alt=\"Open In Colab\"/></a>"
      ]
    },
    {
      "cell_type": "code",
      "execution_count": 1,
      "metadata": {
        "colab": {
          "base_uri": "https://localhost:8080/"
        },
        "id": "iWQytpLxJ2cM",
        "outputId": "c9179d63-b780-4ca3-abde-34cb7916dbc4"
      },
      "outputs": [
        {
          "output_type": "stream",
          "name": "stdout",
          "text": [
            "원본 문자열: 트 와 이 스\n",
            "반대 문자열: 스이와트\n"
          ]
        }
      ],
      "source": [
        "singer = [\"트\", \"와\", \"이\", \"스\"]\n",
        "reverse_singer = singer[3] +  singer[2] +  singer[1] +  singer[0]\n",
        "\n",
        "print(\"원본 문자열:\", singer[0],  singer[1],  singer[2],  singer[3], )\n",
        "print(\"반대 문자열:\", reverse_singer)\n"
      ]
    },
    {
      "cell_type": "code",
      "source": [
        "singer = \"트와이스\"\n",
        "\n",
        "print(\"원본 문자열:\", singer)\n",
        "print(\"반대 문자열:\", singer[::-1])"
      ],
      "metadata": {
        "colab": {
          "base_uri": "https://localhost:8080/"
        },
        "id": "Zmz_HsF0QHiL",
        "outputId": "dbfadf87-fc94-4602-cc3e-432d29d55e11"
      },
      "execution_count": 6,
      "outputs": [
        {
          "output_type": "stream",
          "name": "stdout",
          "text": [
            "원본 문자열: 트와이스\n",
            "반대 문자열: 스이와트\n"
          ]
        }
      ]
    },
    {
      "cell_type": "code",
      "source": [
        "myString = \"Python\"\n",
        "\n",
        "resultString = myString[0].lower() + myString[1:6].upper()\n",
        "print(resultString)"
      ],
      "metadata": {
        "colab": {
          "base_uri": "https://localhost:8080/"
        },
        "id": "vBFHIaLyQ37z",
        "outputId": "f93efe15-4362-4d5e-bb34-d47949b6619c"
      },
      "execution_count": 4,
      "outputs": [
        {
          "output_type": "stream",
          "name": "stdout",
          "text": [
            "pYTHON\n"
          ]
        }
      ]
    }
  ]
}